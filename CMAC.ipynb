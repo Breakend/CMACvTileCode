{
 "cells": [
  {
   "cell_type": "markdown",
   "metadata": {},
   "source": [
    "# Cerebellar Model Articulation Controller (CMAC)\n",
    "\n",
    "This is a proposed computing model based on the principles of the brain's architecture. This is similar in inspiration to multilayer perceptrons (aka. MLPs, neural networks).\n",
    "\n",
    "In a similar way to MLPs, the model can be defined as [1]:\n",
    "\n",
    "$$f : S \\rightarrow A$$\n",
    "$$g : A \\rightarrow P$$\n",
    "\n",
    "and $$y = \\sum A^{\\*}_i w_i$$\n",
    "\n",
    "Where $A$ are association cells (TODO explain), $P$ are response output vectors, $S$ are the sensory input vectors.\n",
    "\n",
    "### MLP vs CMAC\n",
    "\n",
    "The difference between MLPs and CMAC [1] is that in MLPs $f$ is fully connected, while CMAC restricts the associations to neighbors. This is more in tune with Convolutional Nueral Networks in a sense (TODO cite).\n",
    "\n",
    "### Differences from the human brain\n",
    "\n",
    "There are suggestions that the cerebellum is capable of exclusive disjunction which is not in CMAC [1]. TODO more on this.\n",
    "\n",
    "### Benefits of CMAC\n",
    "\n",
    "\"the restriction on mapping function effectively decreased the\n",
    "chance of been trapped in a local minimum during learning\n",
    "process\" [1]\n",
    "\n",
    "TODO: more on this\n",
    "\n",
    "### Disadvantages\n",
    "\n",
    "TODO\n",
    "\n",
    "### Basic architecture\n",
    "\n"
   ]
  },
  {
   "cell_type": "markdown",
   "metadata": {},
   "source": [
    "## References\n",
    "\n",
    "[1] Xing, Frank Z. \"A Historical Review of Forty Years of Research on CMAC.\" arXiv preprint arXiv:1702.02277 (2017)."
   ]
  },
  {
   "cell_type": "code",
   "execution_count": null,
   "metadata": {
    "collapsed": true
   },
   "outputs": [],
   "source": []
  }
 ],
 "metadata": {
  "kernelspec": {
   "display_name": "Python 2",
   "language": "python",
   "name": "python2"
  },
  "language_info": {
   "codemirror_mode": {
    "name": "ipython",
    "version": 2
   },
   "file_extension": ".py",
   "mimetype": "text/x-python",
   "name": "python",
   "nbconvert_exporter": "python",
   "pygments_lexer": "ipython2",
   "version": "2.7.13"
  }
 },
 "nbformat": 4,
 "nbformat_minor": 2
}
